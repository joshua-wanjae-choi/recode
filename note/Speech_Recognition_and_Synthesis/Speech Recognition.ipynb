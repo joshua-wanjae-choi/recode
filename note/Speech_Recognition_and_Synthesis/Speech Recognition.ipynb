{
 "cells": [
  {
   "cell_type": "markdown",
   "metadata": {},
   "source": [
    "음성 인식(Speech Recognition) : 개요  \n",
    "The goal of Speech Recognition:  \n",
    "원형 음성 -> 음성 인식기 -> 음성을 표현한 문자  \n",
    "\n",
    "\n",
    "Traditional ASR pipeline  \n",
    "원형 음성 있음 -> Feature Representation ( O )  \n",
    "Pronounciation Model, Acoustic Model과 Language Model이 있음  \n",
    "그것 가지고 Decoder를 학습시키는 구조  \n",
    "\n",
    "나는 학교에 갑니다 -> sine wave\n",
    "주파수 형으로 변경 -> spectogram\n",
    "\n",
    "\n",
    "\n",
    "\n",
    "Deep Learning in ASR:\n",
    "초기 시작은 acoustic model을 개선해보는 것\n",
    "이 후에는 acoustic model 뿐만 아니라 Language Model까지 합하는 모델을 만듦\n",
    "(End to End Model)을 구현\n",
    "\n"
   ]
  },
  {
   "cell_type": "markdown",
   "metadata": {},
   "source": [
    "# Speech Recognition"
   ]
  },
  {
   "cell_type": "markdown",
   "metadata": {},
   "source": [
    "## Many components make up a complete speech application:  \n",
    "\n",
    "* Speech transcription\n",
    " * 말한 것을 문자로 만들어 줌\n",
    "  \n",
    "* Word spotting / trigger word  \n",
    " * 어떤 작업의 시작을 의미하는 특수한 단어를 인지,   \n",
    "   예를 들면 애플 siri는 시리라고 부르면 자신을 부르는지 앎\n",
    "     \n",
    "* Speaker identification / verification  \n",
    " * 목소리로 화자를 구분해서 인지하는 것임  \n",
    "   자신인 것을 증명할 때도 사용할 수 있을 것 같다고 예시를 들어주었음"
   ]
  },
  {
   "cell_type": "markdown",
   "metadata": {},
   "source": [
    "## The goal of Speech recognition   \n",
    "> *Raw audio wav -->  Speech Recognizer --> print somthing*  \n",
    "\n",
    "ex) (음성)\"나는 밥을 먹는다\" --> Speech Recognizer --> (문자)\"나는 밥을 먹는다.\""
   ]
  },
  {
   "cell_type": "markdown",
   "metadata": {},
   "source": [
    "# Traditional ASR pipeline\n",
    "Audio wave ( X ) -->  \n",
    "Feature representation ( O ) -->  \n",
    "Acoustic Model ( P(O|W) ) -->  \n",
    "Language Model ( P(W) ) -->  \n",
    "\n",
    "Decoder\n",
    "\n"
   ]
  },
  {
   "cell_type": "markdown",
   "metadata": {},
   "source": [
    "__Usually represent words as sequence of \"phonemes\":__  \n",
    "w1 = \"hello\" = [HH AH L OW]\n"
   ]
  },
  {
   "cell_type": "markdown",
   "metadata": {},
   "source": []
  },
  {
   "cell_type": "markdown",
   "metadata": {},
   "source": []
  },
  {
   "cell_type": "markdown",
   "metadata": {},
   "source": []
  },
  {
   "cell_type": "markdown",
   "metadata": {},
   "source": []
  },
  {
   "cell_type": "markdown",
   "metadata": {},
   "source": []
  },
  {
   "cell_type": "markdown",
   "metadata": {},
   "source": []
  },
  {
   "cell_type": "markdown",
   "metadata": {},
   "source": []
  },
  {
   "cell_type": "markdown",
   "metadata": {},
   "source": []
  },
  {
   "cell_type": "markdown",
   "metadata": {},
   "source": []
  },
  {
   "cell_type": "markdown",
   "metadata": {},
   "source": []
  }
 ],
 "metadata": {
  "kernelspec": {
   "display_name": "tacotron",
   "language": "python",
   "name": "tacotron"
  },
  "language_info": {
   "codemirror_mode": {
    "name": "ipython",
    "version": 3
   },
   "file_extension": ".py",
   "mimetype": "text/x-python",
   "name": "python",
   "nbconvert_exporter": "python",
   "pygments_lexer": "ipython3",
   "version": "3.6.4"
  }
 },
 "nbformat": 4,
 "nbformat_minor": 2
}
