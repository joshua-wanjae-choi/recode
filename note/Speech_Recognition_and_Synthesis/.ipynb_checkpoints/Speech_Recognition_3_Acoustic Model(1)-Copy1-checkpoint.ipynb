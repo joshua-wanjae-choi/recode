{
 "cells": [
  {
   "cell_type": "markdown",
   "metadata": {},
   "source": [
    "## 음성인식 : Feature representation (Speech_Recognition : Acoustic Model)\n",
    "---\n",
    "__참고사항 :__ \n",
    "이 글은 성원용 교수님의 \"음성인식 및 합성\" 강의와 [Deep Learning for Speech Recognition(Adam Coates, Baidu)](https://www.youtube.com/watch?v=g-sndkf7mCs)를 주로 참고하여 정리하였습니다.  \n",
    "정리글이므로 오류가 있을 수 있으니 github issue 란에 제보해주시면 확인 후 수정하겠습니다.  \n",
    "감사합니다.\n",
    "<br \\>\n",
    "\n",
    "### 0. Acoustic Model 개요  \n",
    "음성인식기는 아래식에서 W* 를 구하는 것이다.\n",
    "$$ W^* = \\underset{W}{\\text{argmax}} \\sum_{Q} P(O|Q)P(Q|W)P(W) $$  \n",
    "여기서 Pronounciation Model이 결정되었다면(ex. Monophone) 아래와 같아진다.  \n",
    "$$ W^* = \\underset{W}{\\text{argmax}} \\sum_{Q} P(O|W)P(W) $$  \n",
    "여기서 W는 이전에 모은 사전에 포함된 단어가 될 것이고, O는 MFCC 또는 Mel scaled filter bank 결과 값일 것이다.  \n",
    "Acoustic Model에 해당하는 것은 P(O|W)으로 W가 주어졌을 때 O일 확률을 구하는 것이다.  \n",
    "이는 Pronounciation Model 단위 별로 O 데이터를 모아서 분포를 그려 추정할 수 있을 것이다. \n",
    "<br \\>\n",
    "![empty](./img/acoustic_model.png \"acoustic model\")\n",
    "예를 들면 여러 사람한테 \"거기로 가\"라고 말하게 한 다음, \"가\" 부분에 해당하는 음성 wave를 주파수 영역 표현으로 바꾼 뒤 분포를 만드는 것이다. \n",
    "\n",
    "그러면 Pronounciation Model 단위를 조합해서 W를 만들면, W에 대한 O의 분포도 만들 수 있을 것이다. \n",
    "<br \\>\n",
    "### 1. GMM (Gaussian Mixture Model)\n",
    "주로 참고한 자료는 다음과 같다.  \n",
    "[GMM and HMM, Tata Institute of Fundamental Reserach](http://www.iitg.ac.in/samudravijaya/tutorialSlides/gmmHmmTutoChiefWiSSAP09.pdf)  \n",
    "[ASR Lectures, www.inf.ed.ac.uk](https://www.inf.ed.ac.uk/teaching/courses/asr/2016-17/asr03-hmmgmm-handout.pdf)\n",
    "\n",
    "여러 사람이 같은 단어(W)를 발음(O)하기 때문에 다양할 수 밖에 없을 것이다.  \n",
    "그만큼 분포도 다채로운 형태로 나타날텐데 그것을 여러 개의 가우시안 분포가 혼합된 모델로 표현하는 것이 GMM 이다.  \n",
    "\n",
    "\n",
    "- __Bayes' rule__\n",
    "$$ P(m|\\mathbf{x}) = \\frac{p(\\mathbf{x}|m)P(m)}{p(\\mathbf{x})} $$ \n",
    "$ P(m|\\mathbf{x}) $ : posterior  \n",
    "$ p(\\mathbf{x}|m) $ : likelihood    \n",
    "$ P(M) $ : prior\n",
    "\n",
    "- __\n"
   ]
  },
  {
   "cell_type": "code",
   "execution_count": null,
   "metadata": {},
   "outputs": [],
   "source": []
  }
 ],
 "metadata": {
  "kernelspec": {
   "display_name": "tacotron",
   "language": "python",
   "name": "tacotron"
  },
  "language_info": {
   "codemirror_mode": {
    "name": "ipython",
    "version": 3
   },
   "file_extension": ".py",
   "mimetype": "text/x-python",
   "name": "python",
   "nbconvert_exporter": "python",
   "pygments_lexer": "ipython3",
   "version": "3.6.4"
  }
 },
 "nbformat": 4,
 "nbformat_minor": 2
}
