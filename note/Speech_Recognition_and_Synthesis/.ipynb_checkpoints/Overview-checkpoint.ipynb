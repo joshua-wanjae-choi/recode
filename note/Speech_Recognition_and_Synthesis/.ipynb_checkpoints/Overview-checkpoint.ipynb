{
 "cells": [
  {
   "cell_type": "markdown",
   "metadata": {},
   "source": [
    "# 머리말\n",
    "---\n",
    "### 1. 역할\n",
    "이 곳은 음성인식 및 합성(Speech Recognition and Synthesis)에 관하여 정리한 글들을 모아 놓은 곳입니다.\n",
    "\n",
    "\n",
    "### 2. 생성계기\n",
    "4차 산업 아카데미에서 \"음성인식 및 합성\" 강의를 듣던 중 김태훈 님이 구현하신 [Multi-Speaker Tacotron](https://github.com/carpedm20/multi-speaker-tacotron-tensorflow/blob/master/text/ko_dictionary.py)을 보고,   \n",
    "아이유 목소리를 합성하는 모델을 직접 구현하기 위해 정리를 시작하였습니다.\n",
    "\n",
    "### 3. 향후 계획\n",
    "최신 음성합성 기술을 활용하여 아이유 목소리를 합성해보고,\n",
    "그 이후에는 멜로디를 주어주면 노래가 나오게 끔 합성해보는 것을 목표로 하고 있습니다."
   ]
  }
 ],
 "metadata": {
  "kernelspec": {
   "display_name": "tacotron",
   "language": "python",
   "name": "tacotron"
  },
  "language_info": {
   "codemirror_mode": {
    "name": "ipython",
    "version": 3
   },
   "file_extension": ".py",
   "mimetype": "text/x-python",
   "name": "python",
   "nbconvert_exporter": "python",
   "pygments_lexer": "ipython3",
   "version": "3.6.4"
  }
 },
 "nbformat": 4,
 "nbformat_minor": 2
}
