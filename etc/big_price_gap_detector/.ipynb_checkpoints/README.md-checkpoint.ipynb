{
 "cells": [
  {
   "cell_type": "markdown",
   "metadata": {},
   "source": [
    "# big price gap detector\n",
    "## 0. description\n",
    "The program that receives the information of the coin which has the largest gap between the btc price of the binary and the up-bit btc price\n",
    "\n",
    "## 1. environment\n",
    "python 3\n",
    "\n",
    "## 2. run\n",
    "`python test_firefox.py`"
   ]
  }
 ],
 "metadata": {
  "kernelspec": {
   "display_name": "autotrading",
   "language": "python",
   "name": "autotrading"
  },
  "language_info": {
   "codemirror_mode": {
    "name": "ipython",
    "version": 3
   },
   "file_extension": ".py",
   "mimetype": "text/x-python",
   "name": "python",
   "nbconvert_exporter": "python",
   "pygments_lexer": "ipython3",
   "version": "3.6.2"
  }
 },
 "nbformat": 4,
 "nbformat_minor": 2
}
